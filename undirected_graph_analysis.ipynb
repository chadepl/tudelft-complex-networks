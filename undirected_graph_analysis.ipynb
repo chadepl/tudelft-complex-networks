{
 "cells": [
  {
   "cell_type": "code",
   "execution_count": 1,
   "metadata": {},
   "outputs": [],
   "source": [
    "import function as fn\n",
    "import networkx as nx\n",
    "import numpy as np\n",
    "import matplotlib.pyplot as plt\n",
    "import matplotlib\n"
   ]
  },
  {
   "cell_type": "code",
   "execution_count": 2,
   "metadata": {},
   "outputs": [],
   "source": [
    "font = {'family': 'normal',\n",
    "        'weight': 'bold',\n",
    "        'size': 22}\n",
    "matplotlib.rc('font', **font)\n",
    "\n",
    "main_color = '#0000b3'\n",
    "main_color2 = '#b30000'\n",
    "secondary_color = '#b3b3ff'"
   ]
  },
  {
   "cell_type": "code",
   "execution_count": 3,
   "metadata": {},
   "outputs": [],
   "source": [
    "dataset_options = {\n",
    "    1: 'data/mathoverflow/sx-mathoverflow-a2q.txt',\n",
    "    2: 'data/mathoverflow/sx-mathoverflow-c2q.txt',\n",
    "    3: 'data/mathoverflow/sx-mathoverflow-c2a.txt',\n",
    "    4: 'data/mathoverflow/sx-askubuntu-a2q.txt',\n",
    "    5: 'data/mathoverflow/sx-askubuntu-c2q.txt',\n",
    "    6: 'data/mathoverflow/sx-askubuntu-c2a.txt',\n",
    "    7: 'data/mathoverflow/sx-superuser-a2q.txt',\n",
    "    8: 'data/mathoverflow/sx-superuser-c2q.txt',\n",
    "    9: 'data/mathoverflow/sx-superuser-c2a.txt'\n",
    "}"
   ]
  },
  {
   "cell_type": "markdown",
   "metadata": {},
   "source": [
    "### GENERATE GRAPHS"
   ]
  },
  {
   "cell_type": "code",
   "execution_count": 4,
   "metadata": {},
   "outputs": [],
   "source": [
    "nodes, edges_per_t = fn.read_graph_from_file(dataset_options[1])"
   ]
  },
  {
   "cell_type": "code",
   "execution_count": 5,
   "metadata": {},
   "outputs": [],
   "source": [
    "G_undirected = fn.generate_weighted_aggregated_graph(nodes, edges_per_t, directed=False)\n",
    "nx.write_gpickle(G_undirected, 'pickles/graphs/undirected_graph.gpickle') # This so we dont have to compute it everytime "
   ]
  },
  {
   "cell_type": "code",
   "execution_count": 6,
   "metadata": {},
   "outputs": [],
   "source": [
    "edges_per_t_day = fn.aggregate_edges_by_granularity(edges_per_t, 'day')\n",
    "G_day = fn.generate_weighted_aggregated_graph(nodes, edges_per_t_day, directed=False)\n",
    "nx.write_gpickle(G_day, 'pickles/graphs/undirected_graph_day.gpickle') # This so we dont have to compute it everytime\n"
   ]
  },
  {
   "cell_type": "code",
   "execution_count": 7,
   "metadata": {},
   "outputs": [],
   "source": [
    "G_undirected = nx.read_gpickle('pickles/graphs/undirected_graph.gpickle')\n",
    "G_day = nx.read_gpickle('pickles/graphs/undirected_graph_day.gpickle')"
   ]
  },
  {
   "cell_type": "markdown",
   "metadata": {},
   "source": [
    "### BASIC INFORMATION ABOUT THE AGGREGATED GRAPH PER DAY"
   ]
  },
  {
   "cell_type": "code",
   "execution_count": 9,
   "metadata": {},
   "outputs": [
    {
     "name": "stdout",
     "output_type": "stream",
     "text": [
      "Temporal edges (new granularity) 107581\n",
      "Edges in static graph 88956\n",
      "Total different days 2350\n"
     ]
    }
   ],
   "source": [
    "different_keys = []\n",
    "total_edge_count = 0\n",
    "for k, v in edges_per_t_day.items():\n",
    "    different_keys.append(k)\n",
    "    total_edge_count += len(v)\n",
    "print('Temporal edges (new granularity)', total_edge_count)\n",
    "print('Edges in static graph', len(G_undirected.edges()))\n",
    "print('Total different days', len(different_keys))"
   ]
  },
  {
   "cell_type": "markdown",
   "metadata": {},
   "source": [
    "### INTERACTIONS PER DAY"
   ]
  },
  {
   "cell_type": "code",
   "execution_count": 10,
   "metadata": {},
   "outputs": [
    {
     "name": "stderr",
     "output_type": "stream",
     "text": [
      "C:\\Users\\rafai\\Miniconda3\\lib\\site-packages\\matplotlib\\font_manager.py:1241: UserWarning: findfont: Font family ['normal'] not found. Falling back to DejaVu Sans.\n",
      "  (prop.get_family(), self.defaultFamily[fontext]))\n"
     ]
    },
    {
     "data": {
      "image/png": "[encoded data removed]",
      "text/plain": [
       "<Figure size 432x288 with 1 Axes>"
      ]
     },
     "metadata": {
      "needs_background": "light"
     },
     "output_type": "display_data"
    }
   ],
   "source": [
    "current_G = G_day\n",
    "current_edges_per_t = edges_per_t_day\n",
    "current_nodes = nodes\n",
    "min_t = min([k for k in current_edges_per_t.keys()])\n",
    "max_t = max([k for k in current_edges_per_t.keys()])\n",
    "\n",
    "x = []\n",
    "y = []\n",
    "for k, v in current_edges_per_t.items():\n",
    "    x.append(float(k))\n",
    "    y.append(len(v))\n",
    "\n",
    "plt.bar(x, y)\n",
    "plt.show()"
   ]
  },
  {
   "cell_type": "markdown",
   "metadata": {},
   "source": [
    "### DEGREE DISTRIBUTION"
   ]
  },
  {
   "cell_type": "code",
   "execution_count": 12,
   "metadata": {},
   "outputs": [
    {
     "data": {
      "image/png": "[encoded data removed]",
      "text/plain": [
       "<Figure size 432x288 with 1 Axes>"
      ]
     },
     "metadata": {
      "needs_background": "light"
     },
     "output_type": "display_data"
    }
   ],
   "source": [
    "N = G_undirected.number_of_nodes()\n",
    "E = G_undirected.number_of_edges()\n",
    "link_density = nx.density(G_undirected)\n",
    "assortativity = nx.degree_assortativity_coefficient(G_undirected)\n",
    "clustering_coefficient = nx.average_clustering(G_undirected)\n",
    "G_degrees = fn.get_graph_degrees(G_undirected)\n",
    "\n",
    "\n",
    "def plot_degree_dist(G_degrees, degree=\"Degree\"):\n",
    "#     degree_list = G_degrees[:, 1]\n",
    "#     max_degree = np.max(degree_list)\n",
    "    x = np.arange(1, len(G_degrees) + 1)\n",
    "    x, y = np.unique(G_degrees[:, 1], return_counts=True)\n",
    "    # plt.figure(figsize=(15, 8), dpi= 180, facecolor='w', edgecolor='k')\n",
    "    plt.bar(x, y, width=1, align='edge', color=main_color)\n",
    "    # plt.plot(x_pow, y_pow, 'g-', linewidth=1, markersize=2)\n",
    "    plt.xlabel(degree)\n",
    "    plt.ylabel('Count')\n",
    "    plt.title('Nodes {} Distribution'.format(degree))\n",
    "    plt.xlim((0, 100))\n",
    "    plt.grid(True)\n",
    "    plt.show()\n",
    "\n",
    "\n",
    "plot_degree_dist(G_degrees)"
   ]
  },
  {
   "cell_type": "markdown",
   "metadata": {},
   "source": [
    "### METRICS FOR AGGREGATED GRAPH"
   ]
  },
  {
   "cell_type": "code",
   "execution_count": 13,
   "metadata": {},
   "outputs": [
    {
     "name": "stdout",
     "output_type": "stream",
     "text": [
      "21688\n",
      "Is not connected\n",
      "Algebraic Connectivity: 0.0\n"
     ]
    }
   ],
   "source": [
    "def get_G_local_clustering(G):\n",
    "    G_local_clustering = []\n",
    "    for k, v in nx.clustering(G).items():\n",
    "        k = int(k)\n",
    "        G_local_clustering.append([k, v])\n",
    "    G_local_clustering.sort(key=lambda tup: tup[0])\n",
    "    return G_local_clustering\n",
    "\n",
    "\n",
    "G_local_clustering = get_G_local_clustering(G_undirected)\n",
    "print(len(G_local_clustering))\n",
    "\n",
    "is_connected = True if nx.is_connected(G_undirected) else False\n",
    "print(\"Is connected\") if is_connected else print(\"Is not connected\")\n",
    "\n",
    "if is_connected:\n",
    "    print(\"Average Shortest Path Length: {}\".format(nx.average_shortest_path_length(G_undirected)))\n",
    "    print(\"Diameter: {}\".format(nx.diameter(G_undirected)))\n",
    "    print(\"Spectral Radius: {}\".format(np.max(nx.adjacency_spectrum(G_undirected))))\n",
    "\n",
    "\n",
    "try:\n",
    "    print(\"Algebraic Connectivity: {}\".format(nx.algebraic_connectivity(G_undirected)))\n",
    "except nx.exception.NetworkXError as e:\n",
    "    print(e)"
   ]
  },
  {
   "cell_type": "code",
   "execution_count": 14,
   "metadata": {},
   "outputs": [
    {
     "name": "stdout",
     "output_type": "stream",
     "text": [
      "Nodes:  21688\n",
      "Edges:  88956\n",
      "Link density:  0.00037825637638555596\n",
      "Degree: \n",
      " - Mean:  8.203246034673553\n",
      " - Variance:  967.2440101198431\n",
      " - Std:  31.10054678168606\n",
      "Assortativity:  -0.1349943598870361\n",
      "Clustering coefficient:  0.09384549420391179\n"
     ]
    }
   ],
   "source": [
    "print('Nodes: ', N)\n",
    "print('Edges: ', E)\n",
    "# print('Is connected?: ', nx.is_connected(G))\n",
    "print('Link density: ', link_density)\n",
    "print('Degree: ')\n",
    "print(' - Mean: ', G_degrees[:, 1].mean())\n",
    "print(' - Variance: ', G_degrees[:, 1].std() ** 2)\n",
    "print(' - Std: ', G_degrees[:, 1].std())\n",
    "print('Assortativity: ', assortativity)\n",
    "print('Clustering coefficient: ', clustering_coefficient)\n"
   ]
  },
  {
   "cell_type": "code",
   "execution_count": null,
   "metadata": {},
   "outputs": [],
   "source": []
  }
 ],
 "metadata": {
  "kernelspec": {
   "display_name": "Python 3",
   "language": "python",
   "name": "python3"
  },
  "language_info": {
   "codemirror_mode": {
    "name": "ipython",
    "version": 3
   },
   "file_extension": ".py",
   "mimetype": "text/x-python",
   "name": "python",
   "nbconvert_exporter": "python",
   "pygments_lexer": "ipython3",
   "version": "3.6.6"
  }
 },
 "nbformat": 4,
 "nbformat_minor": 2
}
